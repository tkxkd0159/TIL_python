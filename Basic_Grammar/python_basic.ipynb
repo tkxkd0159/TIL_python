{
 "cells": [
  {
   "cell_type": "code",
   "execution_count": null,
   "metadata": {},
   "outputs": [],
   "source": [
    "!pip show numpy  # Package 정보\n",
    "!pip search xgboost # xgboost 관련 package 검색 \n",
    "                    # >> 특정 단어 연관된 package 찾을 때 좋음\n",
    "# pip check : package 호환성 검사\n",
    "#conda info : conda 정보"
   ]
  },
  {
   "cell_type": "code",
   "execution_count": 2,
   "metadata": {},
   "outputs": [
    {
     "name": "stdout",
     "output_type": "stream",
     "text": [
      "C:\\Users\\admin\n",
      "C:\\Users\\admin\\Documents\\SourceCode\\GitHub\\TIL_python\\Basic Grammar\n",
      "C:\\Users\\admin\\Documents\\SourceCode\\GitHub\\TIL_python\n",
      "C:\\Users\\admin\\Documents\\SourceCode\\GitHub\\TIL_python\\Basic Grammar\n",
      "\n",
      " Covert Path object to string : \n",
      " C:/Users/admin/Documents/SourceCode/GitHub/TIL_python/Basic Grammar \n",
      "\n",
      "test.txt    test    .txt \n",
      "\n",
      "check file existence :  False True\n",
      "[WindowsPath('C:/Users/admin/Documents/SourceCode/GitHub/TIL_python/Basic Grammar/python_basic.ipynb'), WindowsPath('C:/Users/admin/Documents/SourceCode/GitHub/TIL_python/Basic Grammar/regular_expr.py'), WindowsPath('C:/Users/admin/Documents/SourceCode/GitHub/TIL_python/Basic Grammar/Regular_expression.ipynb'), WindowsPath('C:/Users/admin/Documents/SourceCode/GitHub/TIL_python/Basic Grammar/thread_ex.py'), WindowsPath('C:/Users/admin/Documents/SourceCode/GitHub/TIL_python/Basic Grammar/use_property.py')]\n",
      "python file list : \n",
      " [WindowsPath('C:/Users/admin/Documents/SourceCode/GitHub/TIL_python/Basic Grammar/regular_expr.py'), WindowsPath('C:/Users/admin/Documents/SourceCode/GitHub/TIL_python/Basic Grammar/thread_ex.py'), WindowsPath('C:/Users/admin/Documents/SourceCode/GitHub/TIL_python/Basic Grammar/use_property.py')]\n",
      "search file list recursively\n",
      "[WindowsPath('C:/Users/admin/Documents/SourceCode/GitHub/TIL_python/Basic Grammar/regular_expr.py'), WindowsPath('C:/Users/admin/Documents/SourceCode/GitHub/TIL_python/Basic Grammar/thread_ex.py'), WindowsPath('C:/Users/admin/Documents/SourceCode/GitHub/TIL_python/Basic Grammar/use_property.py'), WindowsPath('C:/Users/admin/Documents/SourceCode/GitHub/TIL_python/Basic Grammar/.ipynb_checkpoints/UDPClient-checkpoint.py'), WindowsPath('C:/Users/admin/Documents/SourceCode/GitHub/TIL_python/Basic Grammar/FileIO/file_io.py'), WindowsPath('C:/Users/admin/Documents/SourceCode/GitHub/TIL_python/Basic Grammar/FileIO/tabtospace/tabtospace.py')]\n"
     ]
    }
   ],
   "source": [
    "from pathlib import Path\n",
    "print(Path.home())\n",
    "print(Path.cwd())\n",
    "print(Path.cwd().parent)\n",
    "print(Path().resolve()) # file's absolute path\n",
    "\n",
    "print(\"\\n Covert Path object to string : \\n\", Path.cwd().as_posix(), '\\n')\n",
    "\n",
    "filepath = Path('/Users/admin/test_dir/test.txt')\n",
    "print(filepath.name, \"  \", filepath.stem, \"  \", filepath.suffix,'\\n')\n",
    "\n",
    "gen_filepath = Path.cwd() / \"test_new.txt\"\n",
    "print(\"check file existence : \", \\\n",
    "      gen_filepath.exists(), Path.cwd().exists())\n",
    "\n",
    "# List all files in a directory matching a pattern\n",
    "dirpath = Path.cwd()\n",
    "only_file = [f for f in dirpath.iterdir() if f.is_file()]\n",
    "print(only_file)\n",
    "file_list = dirpath.glob(\"*.py\")\n",
    "print(\"python file list : \\n\", list(file_list))\n",
    "print(\"search file list recursively\")\n",
    "print(list(dirpath.glob(\"**/*.py\")))"
   ]
  },
  {
   "cell_type": "markdown",
   "metadata": {},
   "source": [
    "## Basic"
   ]
  },
  {
   "cell_type": "markdown",
   "metadata": {},
   "source": [
    "__init__.py 에 어떻게 from ~ import~ 하냐에 따라서 다른 py file에서 불러올 때 선언해줘야 되는 계층 수가 달라짐"
   ]
  },
  {
   "cell_type": "code",
   "execution_count": 1,
   "metadata": {},
   "outputs": [
    {
     "name": "stdout",
     "output_type": "stream",
     "text": [
      "\u001b[31m\u001b[42m\u001b[22mtest 2 5.231312\n",
      "\u001b[0mtest 2 5.2\n",
      "\u001b[95mtest 2 5.23\n",
      "\u001b[1mstring formatting test 2 5.231\n"
     ]
    }
   ],
   "source": [
    "from colorama import Fore, Back, Style\n",
    "\n",
    "\n",
    "test, test2 = 2, 5.231312\n",
    "print(Fore.RED + Back.GREEN + Style.NORMAL +\"test\",test,test2)\n",
    "print(Style.RESET_ALL +\"test %d %.1f\" %(test, test2))\n",
    "print(Fore.LIGHTMAGENTA_EX +\"test {0} {test_var:.2f}\".format(test, test_var=test2))\n",
    "print(Style.BRIGHT + f'string formatting test {test} {test2:.3f}')\n",
    "\n",
    "# a=-100000 +\\\n",
    "# 8910\n",
    "# print(a)\n",
    "# dir(a) # 해당 object의 attribute나 method 전부 보여줌"
   ]
  },
  {
   "cell_type": "code",
   "execution_count": 3,
   "metadata": {},
   "outputs": [
    {
     "name": "stdout",
     "output_type": "stream",
     "text": [
      "C:\\Users\\admin\\Documents\\SourceCode\\GitHub\\TIL_python\\Basic Grammar\n"
     ]
    }
   ],
   "source": [
    "import os\n",
    "print(os.getcwd()) # get current working directory"
   ]
  },
  {
   "cell_type": "markdown",
   "metadata": {},
   "source": [
    "### map, filter, reduce with lambda"
   ]
  },
  {
   "cell_type": "code",
   "execution_count": null,
   "metadata": {},
   "outputs": [],
   "source": [
    "from functools import reduce\n",
    "\n",
    "def inc(n):\n",
    "    return lambda x: x + n\n",
    "\n",
    "cp = lambda price : 'over' if price > 25 else 'under'\n",
    "print(cp(18))\n",
    "\n",
    "f = inc(10)\n",
    "g = lambda x: x**2\n",
    "\n",
    "a = [1,2,3,4,5]\n",
    "b = [3,5,17,121,35]\n",
    "\n",
    "print((lambda n,m: n if n%2==0 else m)(2,3))\n",
    "map_res = list(map(lambda x, y:x+y, a,b))\n",
    "filter_res = list(filter(lambda x: x % 3 == 2, b))\n",
    "reduce_res = reduce(lambda x,y: x+y, a)\n",
    "\n",
    "print(f'{f(7)}, {g(8)}')\n",
    "print(f'map : {map_res} filter : {filter_res} reduce : {reduce_res}')"
   ]
  },
  {
   "cell_type": "markdown",
   "metadata": {},
   "source": [
    "### Function"
   ]
  },
  {
   "cell_type": "markdown",
   "metadata": {},
   "source": [
    "#### 1) partial : Can set default variables partly instead of entirely"
   ]
  },
  {
   "cell_type": "code",
   "execution_count": null,
   "metadata": {},
   "outputs": [],
   "source": [
    "from functools import partial\n",
    "\n",
    "def simple_fuc(p, q, r):\n",
    "    return (p*q+r) /10\n",
    "\n",
    "part_f = partial(simple_fuc, q=50)\n",
    "print(part_f(p=3, r=10))"
   ]
  },
  {
   "cell_type": "markdown",
   "metadata": {},
   "source": [
    "#### 2) global variable"
   ]
  },
  {
   "cell_type": "code",
   "execution_count": null,
   "metadata": {},
   "outputs": [],
   "source": [
    "local_var = \"origin\"\n",
    "global_var = \"origin\"\n",
    "def global_var_test():\n",
    "    local_var = \"changed!!\"\n",
    "    \n",
    "    global global_var\n",
    "    global_var = \"changed!!\"\n",
    "\n",
    "global_var_test()\n",
    "print(local_var, global_var)"
   ]
  },
  {
   "cell_type": "code",
   "execution_count": null,
   "metadata": {},
   "outputs": [],
   "source": [
    "def classify_grade(MyScore):\n",
    "    if MyScore > 90:\n",
    "        print(\"Your grade is A\")\n",
    "        \n",
    "    elif (MyScore <=90) and (MyScore > 80):\n",
    "            print(\"Your grade is B\")       \n",
    "        \n",
    "    else:\n",
    "        print(\"Your grade is F\")\n",
    "\n",
    "class_1 = [\"Jack\", \"Daniel\", \"Tom\", \"perry\", \"samanta\"]\n",
    "for (index, student) in enumerate(class_1):\n",
    "    print(\"저는 {0}이고 {1}번째입니다\".format(student,index))\n",
    "    \n",
    "    if index >= 2:\n",
    "        break"
   ]
  },
  {
   "cell_type": "code",
   "execution_count": null,
   "metadata": {
    "scrolled": false
   },
   "outputs": [],
   "source": [
    "table = {'Sjoerd': 4127, 'Jack': 4098, 'Dcab': 7678}\n",
    "for name, phone in table.items():\n",
    "    print(f'{name:8} ==> {phone:10d}')\n",
    "    \n",
    "print([f'{name:8} ==> {phone:10d}' for name, phone in table.items()])"
   ]
  },
  {
   "cell_type": "code",
   "execution_count": null,
   "metadata": {},
   "outputs": [],
   "source": [
    "file = open('./text_src/cage.txt','a',encoding='utf-8') # cp949, euc-kr\n",
    "cage = [\"Cat\", \"Dog\", \"Tiger\"]\n",
    "for animal in cage:\n",
    "    file.write(animal)\n",
    "    file.write(\" \")\n",
    "\n",
    "file.close()\n",
    "\n",
    "with open('./text_src/cage2.txt', 'w', encoding=\"utf-8\") as file2:\n",
    "    for animal in cage:\n",
    "        file2.write(animal)\n",
    "        \n",
    "        if cage[len(cage)-1] == animal:\n",
    "            break\n",
    "        file2.write(\"*\")"
   ]
  },
  {
   "cell_type": "markdown",
   "metadata": {},
   "source": [
    "## Class"
   ]
  },
  {
   "cell_type": "code",
   "execution_count": 2,
   "metadata": {},
   "outputs": [
    {
     "output_type": "stream",
     "name": "stdout",
     "text": [
      "name=Jone, age=23, twitter_url=http://twitter.com/jone, youtube_channel_list=['JS', 'JY']\n['JS', 'JY', 'random']\nname=Jone, age=23, twitter_url=http://twitter.com/jone, youtube_channel_list=['JS', 'JY', 'random']\nAll channel list :  ['JS', 'JY', 'random']\n"
     ]
    }
   ],
   "source": [
    "class Student_form:\n",
    "    def __init__(self, name, age, twitter_url=None, google_plus=None, youtube_channel_list=None):\n",
    "        self.name = name\n",
    "        self.age = age\n",
    "        self.twitter_url = twitter_url\n",
    "        self.youtube_channel_list = youtube_channel_list\n",
    "    \n",
    "    def __str__(self):\n",
    "        return ', '.join(['{key}={value}'.format(key=key, value=self.__dict__.get(key)) for key in self.__dict__])\n",
    "        \n",
    "    \n",
    "    def plus_channels(self, channel):\n",
    "        self.youtube_channel_list.append(channel)\n",
    "        print(self.youtube_channel_list)\n",
    "        \n",
    "    def check_channel_list(self):\n",
    "        print(\"All channel list : \", self.youtube_channel_list)\n",
    "    \n",
    " \n",
    "\n",
    "student = Student_form(name='Jone', age=23, twitter_url='http://twitter.com/jone', youtube_channel_list=['JS', 'JY'])\n",
    "print(student)\n",
    "student.plus_channels('random')\n",
    "print(student)\n",
    "\n",
    "Student_form.check_channel_list(student) #  class에 객체로 넘겨줄 수 있음"
   ]
  },
  {
   "cell_type": "code",
   "execution_count": null,
   "metadata": {
    "scrolled": false
   },
   "outputs": [],
   "source": [
    "class Student_inheritance(Student_form):\n",
    "    def __init__(self, _name, _age, _twitter_url, _youtube_channel_list):\n",
    "        super().__init__(name=_name, age=_age, twitter_url = _twitter_url, youtube_channel_list = _youtube_channel_list)\n",
    "        print(\"Inheritance Success\")\n",
    "        \n",
    "    def check_channel_list2(self):\n",
    "        super().check_channel_list()\n",
    "        print()\n",
    "        print(\"super() test\")\n",
    "        \n",
    "\n",
    "\n",
    "new = Student_inheritance(_name='Jone', _age=23, _twitter_url='http://twitter.com/jone', _youtube_channel_list=['JS', 'JY'])\n",
    "\n",
    "print(new)\n",
    "new.plus_channels('random')\n",
    "print(new)\n",
    "\n",
    "new.check_channel_list2()\n"
   ]
  },
  {
   "cell_type": "markdown",
   "metadata": {},
   "source": [
    "ABCMeta와 abstractmehod를 활용해서 abstract class/method 생성  \n",
    "abstract class는 inheritance 시 그 subclass에서 똑같은 method name을 사용해야 함.  \n",
    "abstarct class는 instace 생성 불가"
   ]
  },
  {
   "cell_type": "code",
   "execution_count": 7,
   "metadata": {},
   "outputs": [
    {
     "output_type": "stream",
     "name": "stdout",
     "text": [
      "국가의 수도는?\n서울\n국가 클래스의 메소드입니다.\n"
     ]
    }
   ],
   "source": [
    "from abc import ABCMeta, abstractmethod\n",
    "    \n",
    "    \n",
    "class AbstractCountry(metaclass=ABCMeta):\n",
    "    name = '국가명'\n",
    "    population = '인구'\n",
    "    capital = '수도'\n",
    "    \n",
    "    def show(self):\n",
    "        print('국가 클래스의 메소드입니다.')\n",
    "    \n",
    "    @abstractmethod\n",
    "    def show_capital(self):\n",
    "        print(\"국가의 수도는?\")\n",
    "        \n",
    "            \n",
    "class Korea(AbstractCountry):\n",
    "    \n",
    "    def __init__(self, name, population, capital):\n",
    "        self.name = name\n",
    "        self.population = population\n",
    "        self.capital = capital\n",
    "    \n",
    "    def show_name(self):\n",
    "        print('국가 이름은 : ', self.name)\n",
    "        \n",
    "    def show_capital(self):\n",
    "        super().show_capital()\n",
    "        print(self.capital)\n",
    "        \n",
    "        \n",
    "a = Korea(\"대한민국\", 50000000, \"서울\")\n",
    "a.show_capital()\n",
    "a.show()"
   ]
  },
  {
   "cell_type": "code",
   "execution_count": null,
   "metadata": {},
   "outputs": [],
   "source": [
    "class foreigner_class: \n",
    "    def __str__(self): \n",
    "        return \"class from outside\"\n",
    "    \n",
    "class main_class: \n",
    "    def __new__(cls):\n",
    "        return super(main_class, cls).__new__(cls)\n",
    "          \n",
    "    def __init__(self): \n",
    "        print(\"Initializing init\")\n",
    "          \n",
    "main_class()\n",
    "print(foreigner_class())"
   ]
  },
  {
   "cell_type": "code",
   "execution_count": 21,
   "metadata": {},
   "outputs": [
    {
     "output_type": "stream",
     "name": "stdout",
     "text": [
      "I am __new__\nclass from outside\nI am __new__\nInitializing init\n\nclass from outside\n"
     ]
    }
   ],
   "source": [
    "class foreigner_class: \n",
    "    def __str__(self): \n",
    "        return \"class from outside\"\n",
    "\n",
    "class main_class: \n",
    "    def __new__(cls):\n",
    "        print(\"I am __new__\")\n",
    "        return foreigner_class()\n",
    "      \n",
    "    def __init__(self): \n",
    "        print(\"Initializing init\")\n",
    "    \n",
    "class main_class2: \n",
    "    def __new__(cls):\n",
    "        print(\"I am __new__\")\n",
    "        return super(main_class2, cls).__new__(cls)\n",
    "    \n",
    "    # class안에 __new__, __init__ 둘 다 선언할 경우\n",
    "    # super(main_class, cls).__new__(cls)를 return 해줘야 __init__ 시작됨.\n",
    "    # __init__ 은 return value 못가짐.\n",
    "          \n",
    "    def __init__(self): \n",
    "        print(\"Initializing init\")\n",
    "        \n",
    "print(main_class())\n",
    "main_class2()\n",
    "print(\"\")\n",
    "print(foreigner_class())"
   ]
  },
  {
   "cell_type": "code",
   "execution_count": null,
   "metadata": {
    "scrolled": true
   },
   "outputs": [],
   "source": [
    "class A:\n",
    "    def __new__(cls): \n",
    "        print(\"Creating instance\") \n",
    "        return \"GeeksforGeeks\"\n",
    "class B:\n",
    "    def __init__(self): \n",
    "        print(\"Initializing init\")\n",
    "        \n",
    "print(A())\n",
    "print(B())"
   ]
  },
  {
   "source": [
    "## List tricks"
   ],
   "cell_type": "markdown",
   "metadata": {}
  },
  {
   "cell_type": "code",
   "execution_count": null,
   "metadata": {},
   "outputs": [],
   "source": [
    "words = [\"python\", \"is\", \"awesome\", \"radar\", \"deified\", \"end\"]\n",
    "lengths = [len(x) for x in words]\n",
    "data = {word: len(word) for word in words}\n",
    "palindromes = [word for word in words if word == word[::-1]]\n",
    "length_limit = {w: w[::-1] for w in words if len(w) < 5}\n",
    "print(lengths , \"\\n\", data, \"\\n\", palindromes, \"\\n\", length_limit)"
   ]
  },
  {
   "cell_type": "markdown",
   "metadata": {},
   "source": [
    "## Generator\n",
    "if you want to handle millions of data row, Using Generator is better than using List\n",
    "\n",
    "Generators are iterables like lists, but the items inside a generator are only created when they’re actually used.<br> \n",
    "After they’re used, they’re thrown away and not usable again."
   ]
  },
  {
   "cell_type": "code",
   "execution_count": null,
   "metadata": {},
   "outputs": [],
   "source": [
    "import random\n",
    "def normal_return():\n",
    "    return [round(random.random()*iter_, 3) for iter_ in range(0, 6)]\n",
    "\n",
    "# use \"yield\" to create generator\n",
    "def gen_return():\n",
    "    yield [round(random.random()*iter_, 3) for iter_ in range(0, 6)]\n",
    "a = normal_return()\n",
    "b = gen_return()\n",
    "print(type(a), a)\n",
    "print(type(b), list(b))"
   ]
  },
  {
   "cell_type": "code",
   "execution_count": 10,
   "metadata": {},
   "outputs": [
    {
     "output_type": "stream",
     "name": "stdout",
     "text": [
      "<generator object <genexpr> at 0x000001EF030776D0>\n29.0\n"
     ]
    }
   ],
   "source": [
    "text = open(\"./text_src/bigdata.txt\", \"r\")\n",
    "lines = (line for line in text if line.startswith(\"2020-01-01\")) # using parentheses instead of square brackets\n",
    "\n",
    "def average_line_length(lines):\n",
    "    num_lines = 0\n",
    "    total_length = 0\n",
    "    for line in lines:\n",
    "        num_lines += 1\n",
    "        total_length += len(line)\n",
    "    return total_length / num_lines\n",
    "\n",
    "result = average_line_length(lines)\n",
    "print(lines)\n",
    "print(result)"
   ]
  },
  {
   "source": [
    "### advanced (list)"
   ],
   "cell_type": "markdown",
   "metadata": {}
  },
  {
   "cell_type": "code",
   "execution_count": 25,
   "metadata": {},
   "outputs": [
    {
     "name": "stdout",
     "output_type": "stream",
     "text": [
      "__call__ start\n",
      "args 0\n",
      "Key is missing\n",
      "the number of f(x) execution :  1\n",
      "<class '__main__.memoize.<locals>.memodict'> <class '__main__.memoize.<locals>.memodict'>\n",
      "__call__ start\n",
      "args 0\n",
      "=====b1 cycle cleared=====\n",
      "__call__ start\n",
      "args 1\n",
      "Key is missing\n",
      "the number of f(x) execution :  2\n",
      "<class '__main__.memoize.<locals>.memodict'> <class '__main__.memoize.<locals>.memodict'>\n",
      "__call__ start\n",
      "args 1\n",
      "=====b1 cycle cleared=====\n",
      "__call__ start\n",
      "args 1\n",
      "__call__ start\n",
      "args 1\n",
      "=====b1 cycle cleared=====\n",
      "__call__ start\n",
      "args 2\n",
      "Key is missing\n",
      "the number of f(x) execution :  3\n",
      "<class '__main__.memoize.<locals>.memodict'> <class '__main__.memoize.<locals>.memodict'>\n",
      "__call__ start\n",
      "args 2\n",
      "=====b1 cycle cleared=====\n",
      "__call__ start\n",
      "args 3\n",
      "Key is missing\n",
      "the number of f(x) execution :  4\n",
      "<class '__main__.memoize.<locals>.memodict'> <class '__main__.memoize.<locals>.memodict'>\n",
      "__call__ start\n",
      "args 3\n",
      "=====b1 cycle cleared=====\n",
      "__call__ start\n",
      "args 1\n",
      "__call__ start\n",
      "args 1\n",
      "=====b1 cycle cleared=====\n"
     ]
    }
   ],
   "source": [
    "def memoize(f):\n",
    "    class memodict(dict):                   # f(key) = value 를 dict 형태로 생각할 수 있다. dict class inheritance\n",
    "        def __init__(self, function_):\n",
    "            self.f = function_\n",
    "        def __call__(self, *args):\n",
    "            print(\"__call__ start\")\n",
    "            print(\"args\", *args)\n",
    "            \n",
    "            return self[args]               #  return dict[key]\n",
    "        \n",
    "        def __missing__(self, key):         # 해당 key값이 없을 경우 __missing__ method로 넘어옴.\n",
    "            print(\"Key is missing\")\n",
    "            self[key] = self.f(*key)        # self[key]  ->> dict인 memodict에  key:value 값을 저장. \n",
    "                                            # 또한, self.f(*key)에 의해 f가 실행됨. funcRuns +1\n",
    "            return self[key]\n",
    "    return memodict(f)\n",
    "\n",
    "funcRuns=0\n",
    "@memoize\n",
    "def f(x):\n",
    "    global funcRuns\n",
    "    \n",
    "    funcRuns += 1\n",
    "    print(\"the number of f(x) execution : \",funcRuns)\n",
    "    return True\n",
    "\n",
    "nums = [0, 1, 1, 2, 3, 1]  # a set of keys (function's variables)\n",
    "\n",
    "for x in nums:\n",
    "    if f(x):   # call f(x) at first \n",
    "        f(x)   # call f(x) at second\n",
    "        print(\"=====b1 cycle cleared=====\")"
   ]
  },
  {
   "cell_type": "code",
   "execution_count": null,
   "metadata": {},
   "outputs": [],
   "source": [
    "posts = [\n",
    "  {\n",
    "    'Post': {\n",
    "      'title':'Other today post',\n",
    "      'date': 43750,\n",
    "      'claps': 200\n",
    "    }\n",
    "  }, \n",
    "  {\n",
    "    'Post': {\n",
    "      'title':'Python Like a Pro - Lists and Their Many Uses',\n",
    "      'date': 43750,\n",
    "      'claps': 525\n",
    "    }\n",
    "  },\n",
    "  {\n",
    "    'Post': {\n",
    "      'title':'Yesterdays news',\n",
    "      'date': 43749,\n",
    "      'claps': 25\n",
    "    }\n",
    "  },\n",
    "  {\n",
    "    'Post': {\n",
    "      'title':'Yesterdays Big Hit',\n",
    "      'date': 43749,\n",
    "      'claps': 5000\n",
    "    }\n",
    "  }\n",
    "    \n",
    "]\n",
    "\n",
    "def rank(element):\n",
    "  return (element['Post']['date'], \n",
    "          element['Post']['claps'])\n",
    "\n",
    "\n",
    "posts.sort(key=rank, reverse=True)\n",
    "\n",
    "\n",
    "print([post['Post']['title'] for post in posts])"
   ]
  }
 ],
 "metadata": {
  "kernelspec": {
   "display_name": "Python 3",
   "language": "python",
   "name": "python3"
  },
  "language_info": {
   "codemirror_mode": {
    "name": "ipython",
    "version": 3
   },
   "file_extension": ".py",
   "mimetype": "text/x-python",
   "name": "python",
   "nbconvert_exporter": "python",
   "pygments_lexer": "ipython3",
   "version": "3.8.5-final"
  }
 },
 "nbformat": 4,
 "nbformat_minor": 2
}